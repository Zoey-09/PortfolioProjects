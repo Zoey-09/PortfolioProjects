{
 "cells": [
  {
   "cell_type": "code",
   "execution_count": 1,
   "id": "2df8b69f",
   "metadata": {},
   "outputs": [],
   "source": [
    "# import libraries\n",
    "\n",
    "from bs4 import BeautifulSoup\n",
    "import requests\n",
    "import time\n",
    "import datetime\n",
    "\n",
    "import smtplib"
   ]
  },
  {
   "cell_type": "code",
   "execution_count": 3,
   "id": "27a976db",
   "metadata": {},
   "outputs": [
    {
     "name": "stdout",
     "output_type": "stream",
     "text": [
      "\n",
      "           LG 32UN880-B 32\" UltraFine Display Ergo UHD 4K IPS Display with HDR 10 Compatibility and USB Type-C Connectivity, Black\n",
      "          \n",
      "\n",
      "                     $513.99\n",
      "                    \n"
     ]
    }
   ],
   "source": [
    "# Connect to Website and pull in data\n",
    "\n",
    "URL = 'https://www.amazon.com/LG-32UN880-B-UltraFine-Compatibility-Connectivity/dp/B08BCR862L?ref_=ast_sto_dp'\n",
    "\n",
    "headers =  {\"User-Agent\": \"Mozilla/5.0 (Macintosh; Intel Mac OS X 10_15_7) AppleWebKit/605.1.15 (KHTML, like Gecko) Version/17.2.1 Safari/605.1.15\"}\n",
    "\n",
    "page = requests.get(URL)\n",
    "\n",
    "soup1 = BeautifulSoup(page.content, \"lxml\")\n",
    "\n",
    "soup2 = BeautifulSoup(soup1.prettify(), \"lxml\")\n",
    "\n",
    "title = soup2.find(id = \"productTitle\")\n",
    "\n",
    "price = soup2.select_one(\"span.a-price\").select_one(\"span.a-offscreen\")\n",
    "\n",
    "print(title.text)\n",
    "\n",
    "print(price.text)\n"
   ]
  },
  {
   "cell_type": "code",
   "execution_count": 4,
   "id": "48516d20",
   "metadata": {},
   "outputs": [
    {
     "name": "stdout",
     "output_type": "stream",
     "text": [
      "LG 32UN880-B 32\" UltraFine Display Ergo UHD 4K IPS Display with HDR 10 Compatibility and USB Type-C Connectivity, Black\n",
      "513.99\n"
     ]
    }
   ],
   "source": [
    "# Clean up the fragment of data and strip the blank space before title and price\n",
    "\n",
    "title = title.string.strip()\n",
    "\n",
    "price = price.string.strip()[1:]\n",
    "\n",
    "print(title)\n",
    "print(price)"
   ]
  },
  {
   "cell_type": "code",
   "execution_count": 5,
   "id": "c3008b76",
   "metadata": {},
   "outputs": [
    {
     "name": "stdout",
     "output_type": "stream",
     "text": [
      "2024-01-28\n"
     ]
    }
   ],
   "source": [
    "# Create a Timestampp for you output to track when data was collected\n",
    "\n",
    "import datetime\n",
    "\n",
    "today = datetime.date.today()\n",
    "\n",
    "print(today)\n"
   ]
  },
  {
   "cell_type": "code",
   "execution_count": 6,
   "id": "ca35b5eb",
   "metadata": {},
   "outputs": [],
   "source": [
    "# Create CSV and write headers and data into the file\n",
    "\n",
    "import csv\n",
    "\n",
    "from csv import writer\n",
    "\n",
    "header = ['Title', 'Price',  'Date']\n",
    "data = [title, price, today]\n",
    "\n",
    "# open a file \n",
    "\n",
    "with open(\"LGMonitorWebScrape.csv\", \"w\", newline = \"\", encoding=\"UTF-8\") as lgfile:\n",
    "    writer = csv.writer(lgfile)\n",
    "    writer.writerow(header)\n",
    "    writer.writerow(data)"
   ]
  },
  {
   "cell_type": "code",
   "execution_count": 12,
   "id": "c1ee190e",
   "metadata": {},
   "outputs": [
    {
     "name": "stdout",
     "output_type": "stream",
     "text": [
      "                                               Title   Price        Date\n",
      "0  LG 32UN880-B 32\" UltraFine Display Ergo UHD 4K...  513.99  2024-01-28\n",
      "1  LG 32UN880-B 32\" UltraFine Display Ergo UHD 4K...  513.99  2024-01-28\n",
      "2  LG 32UN880-B 32\" UltraFine Display Ergo UHD 4K...  513.99  2024-01-28\n",
      "3  LG 32UN880-B 32\" UltraFine Display Ergo UHD 4K...  513.99  2024-01-28\n",
      "4  LG 32UN880-B 32\" UltraFine Display Ergo UHD 4K...  513.99  2024-01-28\n",
      "5  LG 32UN880-B 32\" UltraFine Display Ergo UHD 4K...  513.99  2024-01-28\n",
      "6  LG 32UN880-B 32\" UltraFine Display Ergo UHD 4K...  513.99  2024-01-28\n"
     ]
    }
   ],
   "source": [
    "import pandas as pd\n",
    "\n",
    "df = pd.read_csv(r'/Users/tinasimac/Desktop/Coding/Jupyter Notebook/LGMonitorWebScrape.csv')\n",
    "\n",
    "print(df)\n"
   ]
  },
  {
   "cell_type": "code",
   "execution_count": 8,
   "id": "11db5298",
   "metadata": {},
   "outputs": [],
   "source": [
    "# Now we are appending data to the csv\n",
    "\n",
    "with open(\"LGMonitorWebScrape.csv\", \"a+\", newline = \"\", encoding=\"UTF-8\") as lgfile:\n",
    "        writer = csv.writer(lgfile)\n",
    "        writer.writerow(data)\n"
   ]
  },
  {
   "cell_type": "code",
   "execution_count": 10,
   "id": "07659e39",
   "metadata": {},
   "outputs": [],
   "source": [
    "# Combine all of the above codes into one function\n",
    "\n",
    "def check_price():\n",
    "    \n",
    "    URL = 'https://www.amazon.com/LG-32UN880-B-UltraFine-Compatibility-Connectivity/dp/B08BCR862L?ref_=ast_sto_dp'\n",
    "\n",
    "    headers =  {\"User-Agent\": \"Mozilla/5.0 (Macintosh; Intel Mac OS X 10_15_7) AppleWebKit/605.1.15 (KHTML, like Gecko) Version/17.2.1 Safari/605.1.15\"}\n",
    "\n",
    "    page = requests.get(URL)\n",
    "\n",
    "    soup1 = BeautifulSoup(page.content, \"lxml\")\n",
    "\n",
    "    soup2 = BeautifulSoup(soup1.prettify(), \"lxml\")\n",
    "\n",
    "    title = soup2.find(id = \"productTitle\")\n",
    "\n",
    "    price = soup2.select_one(\"span.a-price\").select_one(\"span.a-offscreen\")\n",
    "\n",
    "    title = title.string.strip()\n",
    "\n",
    "    price = price.string.strip()[1:]\n",
    "\n",
    "    import datetime\n",
    "\n",
    "    today = datetime.date.today()\n",
    "    \n",
    "    from csv import writer\n",
    "\n",
    "    header = ['Title', 'Price',  'Date']\n",
    "    data = [title, price, today]\n",
    "\n",
    "\n",
    "    with open(\"LGMonitorWebScrape.csv\", \"a+\", newline = \"\", encoding=\"UTF-8\") as lgfile:\n",
    "        writer = csv.writer(lgfile)\n",
    "        writer.writerow(data)\n",
    "        \n",
    "    if(price < 480):\n",
    "        send_mail()"
   ]
  },
  {
   "cell_type": "code",
   "execution_count": null,
   "id": "c9428cd2",
   "metadata": {},
   "outputs": [],
   "source": [
    "# Runs check_price after a set time and inputs data into the CSV\n",
    "\n",
    "while(True):\n",
    "    check_price()\n",
    "    time.sleep(86400)\n",
    "\n"
   ]
  },
  {
   "cell_type": "code",
   "execution_count": 14,
   "id": "3139661f",
   "metadata": {},
   "outputs": [
    {
     "name": "stdout",
     "output_type": "stream",
     "text": [
      "                                               Title   Price        Date\n",
      "0  LG 32UN880-B 32\" UltraFine Display Ergo UHD 4K...  513.99  2024-01-28\n",
      "1  LG 32UN880-B 32\" UltraFine Display Ergo UHD 4K...  513.99  2024-01-28\n",
      "2  LG 32UN880-B 32\" UltraFine Display Ergo UHD 4K...  513.99  2024-01-28\n",
      "3  LG 32UN880-B 32\" UltraFine Display Ergo UHD 4K...  513.99  2024-01-28\n",
      "4  LG 32UN880-B 32\" UltraFine Display Ergo UHD 4K...  513.99  2024-01-28\n",
      "5  LG 32UN880-B 32\" UltraFine Display Ergo UHD 4K...  513.99  2024-01-28\n",
      "6  LG 32UN880-B 32\" UltraFine Display Ergo UHD 4K...  513.99  2024-01-28\n",
      "7  LG 32UN880-B 32\" UltraFine Display Ergo UHD 4K...  513.99  2024-01-28\n"
     ]
    }
   ],
   "source": [
    "import pandas as pd\n",
    "\n",
    "df = pd.read_csv(r'/Users/tinasimac/Desktop/Coding/Jupyter Notebook/LGMonitorWebScrape.csv')\n",
    "\n",
    "print(df)"
   ]
  },
  {
   "cell_type": "code",
   "execution_count": null,
   "id": "aa7fb503",
   "metadata": {},
   "outputs": [],
   "source": [
    "# Creating a alter e-mail to yourself when a price hits below a certain targeted level.\n",
    "\n",
    "def send_mail():\n",
    "    server = smtplib.SMTP_SSL('smtp:gmail.com', 465)\n",
    "    server.ehlo()\n",
    "    #server.starttls()\n",
    "    server.ehlo()\n",
    "    server.login('txxxxx@gmail.com', 'xxxxxxxx')\n",
    "\n",
    "    subject - \"The LG monitor you want is at below $480! Now is your chance to buy.\"\n",
    "    body = 'Hi, The is the monent we have been waiting for. Now is your chance to purchase the monitor you have been waiting for.'\n",
    "\n",
    "    msg = f\"Subject: {subject}\\n\\n{body}\"\n",
    "\n",
    "    server.sendmail('txxxxx@gmail.com',\n",
    "        'txxxxx@gmail.com',\n",
    "        msg\n",
    "    )\n",
    "\n",
    "\n"
   ]
  }
 ],
 "metadata": {
  "kernelspec": {
   "display_name": "Python 3 (ipykernel)",
   "language": "python",
   "name": "python3"
  },
  "language_info": {
   "codemirror_mode": {
    "name": "ipython",
    "version": 3
   },
   "file_extension": ".py",
   "mimetype": "text/x-python",
   "name": "python",
   "nbconvert_exporter": "python",
   "pygments_lexer": "ipython3",
   "version": "3.9.12"
  }
 },
 "nbformat": 4,
 "nbformat_minor": 5
}
